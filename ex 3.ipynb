{
 "cells": [
  {
   "cell_type": "code",
   "execution_count": null,
   "id": "d538c28f",
   "metadata": {},
   "outputs": [],
   "source": [
    "import cv2\n",
    "color_image = cv2.imread('ee.jpg')\n",
    "cv2.imshow('Original image',color_image)\n",
    "hsv_image = cv2.cvtColor(color_image, cv2.COLOR_BGR2HSV)\n",
    "cv2.imshow('BGR2HSV' ,hsv_image )\n",
    "gray_image1 = cv2.cvtColor (color_image, cv2.COLOR_RGB2GRAY)\n",
    "cv2.imshow('RGB2GRAY', gray_image1)\n",
    "cv2.waitKey(0)\n",
    "cv2. destroyAllWindows()"
   ]
  },
  {
   "cell_type": "code",
   "execution_count": null,
   "id": "4dfaed25",
   "metadata": {},
   "outputs": [],
   "source": [
    "import cv2\n",
    "color_image = cv2.imread('ee.jpg')\n",
    "cv2.imshow('Original image', color_image)\n",
    "hsv_image = cv2.cvtColor(color_image, cv2.COLOR_HSV2RGB)\n",
    "cv2.imshow('HSV2RGB' ,hsv_image )\n",
    "gray_image1 = cv2.cvtColor (color_image, cv2.COLOR_HSV2BGR)\n",
    "cv2.imshow('HSV2BGR', gray_image1)\n",
    "cv2.waitKey(0)\n",
    "cv2. destroyAllWindows()\n"
   ]
  },
  {
   "cell_type": "code",
   "execution_count": null,
   "id": "b9304243",
   "metadata": {},
   "outputs": [],
   "source": [
    "import cv2\n",
    "color_image = cv2.imread('ee.jpg')\n",
    "cv2.imshow('Original image',color_image)\n",
    "gray_image1 = cv2.cvtColor (color_image, cv2.COLOR_RGB2YCrCb)\n",
    "cv2.imshow('RGB2YCrCb', gray_image1)\n",
    "gray_image1 = cv2.cvtColor (color_image, cv2.COLOR_BGR2YCrCb)\n",
    "cv2.imshow('BGR2YCrCb', gray_image1)\n",
    "cv2.waitKey(0)\n",
    "cv2. destroyAllWindows()\n"
   ]
  }
 ],
 "metadata": {
  "kernelspec": {
   "display_name": "Python 3 (ipykernel)",
   "language": "python",
   "name": "python3"
  },
  "language_info": {
   "codemirror_mode": {
    "name": "ipython",
    "version": 3
   },
   "file_extension": ".py",
   "mimetype": "text/x-python",
   "name": "python",
   "nbconvert_exporter": "python",
   "pygments_lexer": "ipython3",
   "version": "3.9.7"
  }
 },
 "nbformat": 4,
 "nbformat_minor": 5
}
